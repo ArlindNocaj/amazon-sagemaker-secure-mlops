{
 "cells": [
  {
   "cell_type": "markdown",
   "metadata": {},
   "source": [
    "# Orchestrating Jobs, Model Registration, and Continuous Deployment with Amazon SageMaker in a secure environment\n",
    "\n",
    "Amazon SageMaker offers Machine Learning application developers and Machine Learning operations engineers the ability to orchestrate SageMaker jobs and author reproducible Machine Learning pipelines, deploy custom-build models for inference in real-time with low latency or offline inferences with Batch Transform, and track lineage of artifacts. You can institute sound operational practices in deploying and monitoring production workflows, deployment of model artifacts, and track artifact lineage through a simple interface, adhering to safety and best-practice paradigmsfor Machine Learning application development.\n",
    "\n",
    "The SageMaker Pipelines service supports a SageMaker Machine Learning Pipeline Domain Specific Language (DSL), which is a declarative Json specification. This DSL defines a Directed Acyclic Graph (DAG) of pipeline parameters and SageMaker job steps. The SageMaker Python Software Developer Kit (SDK) streamlines the generation of the pipeline DSL using constructs that are already familiar to engineers and scientists alike.\n",
    "\n",
    "The SageMaker Model Registry is where trained models are stored, versioned, and managed. Data Scientists and Machine Learning Engineers can compare model versions, approve models for deployment, and deploy models from different AWS accounts, all from a single Model Registry. SageMaker enables customers to follow the best practices with ML Ops and getting started right. Customers are able to standup a full ML Ops end-to-end system with a single API call."
   ]
  },
  {
   "cell_type": "markdown",
   "metadata": {},
   "source": [
    "## SageMaker Pipelines\n",
    "\n",
    "Amazon SageMaker Pipelines support the following activites:\n",
    "\n",
    "* Pipelines - A Directed Acyclic Graph of steps and conditions to orchestrate SageMaker jobs and resource creation.\n",
    "* Processing Job steps - A simplified, managed experience on SageMaker to run data processing workloads, such as feature engineering, data validation, model evaluation, and model interpretation.\n",
    "* Training Job steps - An iterative process that teaches a model to make predictions by presenting examples from a training dataset.\n",
    "* Conditional step execution - Provides conditional execution of branches in a pipeline.\n",
    "* Registering Models - Creates a model package resource in the Model Registry that can be used to create deployable models in Amazon SageMaker.\n",
    "* Creating Model steps - Create a model for use in transform steps or later publication as an endpoint.\n",
    "* Parametrized Pipeline executions - Allows pipeline executions to vary by supplied parameters.\n",
    "* Transform Job steps - A batch transform to preprocess datasets to remove noise or bias that interferes with training or inference from your dataset, get inferences from large datasets, and run inference when you don't need a persistent endpoint."
   ]
  },
  {
   "cell_type": "markdown",
   "metadata": {},
   "source": [
    "## Layout of the SageMaker ModelBuild Project Template\n",
    "\n",
    "The template provides a starting point for bringing your SageMaker Pipeline development to production.\n",
    "\n",
    "```\n",
    "|-- buildspec.yml\n",
    "|-- CONTRIBUTING.md\n",
    "|-- dataset\n",
    "|   `-- abalone-dataset.csv\n",
    "|-- pipelines\n",
    "|   |-- abalone\n",
    "|   |   |-- evaluate.py\n",
    "|   |   |-- __init__.py\n",
    "|   |   |-- pipeline.py\n",
    "|   |   `-- preprocess.py\n",
    "|   |-- get_pipeline_definition.py\n",
    "|   |-- __init__.py\n",
    "|   |-- run_pipeline.py\n",
    "|   |-- _utils.py\n",
    "|   `-- __version__.py\n",
    "|-- README.md\n",
    "|-- sagemaker-pipelines-project.ipynb\n",
    "|-- setup.cfg\n",
    "|-- setup.py\n",
    "|-- tests\n",
    "|   `-- test_pipelines.py\n",
    "`-- tox.ini\n",
    "```"
   ]
  },
  {
   "cell_type": "markdown",
   "metadata": {},
   "source": [
    "A description of some of the artifacts is provided below:\n",
    "<br/><br/>\n",
    "Your codebuild execution instructions:\n",
    "```\n",
    "|-- buildspec.yml\n",
    "```\n",
    "<br/><br/>\n",
    "Your pipeline artifacts, which includes a pipeline module defining the required `get_pipeline` method that returns an instance of a SageMaker pipeline, a preprocessing script that is used in feature engineering, and a model evaluation script to measure the Mean Squared Error of the model that's trained by the pipeline:\n",
    "\n",
    "```\n",
    "|-- pipelines\n",
    "|   |-- abalone\n",
    "|   |   |-- evaluate.py\n",
    "|   |   |-- __init__.py\n",
    "|   |   |-- pipeline.py\n",
    "|   |   `-- preprocess.py\n",
    "\n",
    "```\n",
    "<br/><br/>\n",
    "Utility modules for getting pipeline definition jsons and running pipelines:\n",
    "\n",
    "```\n",
    "|-- pipelines\n",
    "|   |-- get_pipeline_definition.py\n",
    "|   |-- __init__.py\n",
    "|   |-- run_pipeline.py\n",
    "|   |-- _utils.py\n",
    "|   `-- __version__.py\n",
    "```\n",
    "<br/><br/>\n",
    "Python package artifacts:\n",
    "```\n",
    "|-- setup.cfg\n",
    "|-- setup.py\n",
    "```\n",
    "<br/><br/>\n",
    "A stubbed testing module for testing your pipeline as you develop:\n",
    "```\n",
    "|-- tests\n",
    "|   `-- test_pipelines.py\n",
    "```\n",
    "<br/><br/>\n",
    "The `tox` testing framework configuration:\n",
    "```\n",
    "`-- tox.ini\n",
    "```"
   ]
  },
  {
   "cell_type": "markdown",
   "metadata": {},
   "source": [
    "### A SageMaker Pipeline\n",
    "\n",
    "The pipeline that we create follows a typical Machine Learning Application pattern of pre-processing, training, evaluation, and conditional model registration and publication, if the quality of the model is sufficient.\n",
    "\n",
    "![A typical ML Application pipeline](img/pipeline-full.png)\n",
    "\n",
    "### Getting some constants\n",
    "\n",
    "We get some constants from the local execution environment."
   ]
  },
  {
   "cell_type": "code",
   "execution_count": 28,
   "metadata": {},
   "outputs": [],
   "source": [
    "import boto3\n",
    "import sagemaker\n",
    "import sagemaker.session\n",
    "import json\n",
    "\n",
    "sm = boto3.client(\"sagemaker\")\n",
    "ssm = boto3.client(\"ssm\")\n",
    "\n",
    "def get_environment(project_name):\n",
    "    r = sm.describe_domain(\n",
    "            DomainId=sm.describe_project(\n",
    "                ProjectName=project_name\n",
    "                )[\"CreatedBy\"][\"DomainId\"]\n",
    "        )\n",
    "    del r[\"ResponseMetadata\"]\n",
    "    del r[\"CreationTime\"]\n",
    "    del r[\"LastModifiedTime\"]\n",
    "    r = {**r, **r[\"DefaultUserSettings\"]}\n",
    "    del r[\"DefaultUserSettings\"]\n",
    "\n",
    "    i = {\n",
    "        **r,\n",
    "        **{t[\"Key\"]:t[\"Value\"] \n",
    "            for t in sm.list_tags(ResourceArn=r[\"DomainArn\"])[\"Tags\"] \n",
    "            if t[\"Key\"] in [\"EnvironmentName\", \"EnvironmentType\"]}\n",
    "    }\n",
    "\n",
    "    i[\"DataBucketName\"]=ssm.get_parameter(Name=f\"{i['EnvironmentName']}-{i['EnvironmentType']}-data-bucket-name\")[\"Parameter\"][\"Value\"]\n",
    "    i[\"ModelBucketName\"]=ssm.get_parameter(Name=f\"{i['EnvironmentName']}-{i['EnvironmentType']}-model-bucket-name\")[\"Parameter\"][\"Value\"]\n",
    "    i[\"S3VPCEId\"]=ssm.get_parameter(Name=f\"{i['EnvironmentName']}-{i['EnvironmentType']}-s3-vpce-id\")[\"Parameter\"][\"Value\"]\n",
    "\n",
    "    return i\n",
    "\n",
    "def get_session(default_bucket):\n",
    "    \"\"\"Gets the sagemaker session based on the region.\n",
    "\n",
    "    Args:\n",
    "        region: the aws region to start the session\n",
    "        default_bucket: the bucket to use for storing the artifacts\n",
    "\n",
    "    Returns:\n",
    "        sagemaker.session.Session instance\n",
    "    \"\"\"\n",
    "\n",
    "    boto_session = boto3.Session()\n",
    "\n",
    "    sagemaker_client = boto_session.client(\"sagemaker\")\n",
    "    runtime_client = boto_session.client(\"sagemaker-runtime\")\n",
    "    return sagemaker.session.Session(\n",
    "        boto_session=boto_session,\n",
    "        sagemaker_client=sagemaker_client,\n",
    "        sagemaker_runtime_client=runtime_client,\n",
    "        default_bucket=default_bucket,\n",
    "    )"
   ]
  },
  {
   "cell_type": "markdown",
   "metadata": {},
   "source": [
    "Get data science environment data - we need later for a proper network parameters setup:"
   ]
  },
  {
   "cell_type": "code",
   "execution_count": 29,
   "metadata": {},
   "outputs": [
    {
     "name": "stdout",
     "output_type": "stream",
     "text": [
      "Environment data:\n",
      "{\n",
      "  \"DomainArn\": \"arn:aws:sagemaker:us-east-1:949335012047:domain/d-nuu0qocmyhd6\",\n",
      "  \"DomainId\": \"d-nuu0qocmyhd6\",\n",
      "  \"DomainName\": \"sm-mlops-dev-us-east-1-sagemaker-domain\",\n",
      "  \"HomeEfsFileSystemId\": \"fs-a3d92317\",\n",
      "  \"Status\": \"InService\",\n",
      "  \"AuthMode\": \"IAM\",\n",
      "  \"AppNetworkAccessType\": \"VpcOnly\",\n",
      "  \"SubnetIds\": [\n",
      "    \"subnet-0a338babaa635e3e6\"\n",
      "  ],\n",
      "  \"Url\": \"https://d-nuu0qocmyhd6.studio.us-east-1.sagemaker.aws\",\n",
      "  \"VpcId\": \"vpc-067a7f5454b7649a5\",\n",
      "  \"KmsKeyId\": \"8a9a07e1-bfa0-4141-99d1-5efb68df86fa\",\n",
      "  \"ExecutionRole\": \"arn:aws:iam::949335012047:role/service-role/sm-mlops-env-EnvironmentIAM-SageMakerExecutionRole-184Y5HERXPK2Q\",\n",
      "  \"SecurityGroups\": [\n",
      "    \"sg-09d0ae98a2abd26f5\"\n",
      "  ],\n",
      "  \"EnvironmentName\": \"sm-mlops\",\n",
      "  \"EnvironmentType\": \"dev\",\n",
      "  \"DataBucketName\": \"sm-mlops-dev-us-east-1-data\",\n",
      "  \"ModelBucketName\": \"sm-mlops-dev-us-east-1-models\",\n",
      "  \"S3VPCEId\": \"vpce-073c182393ba71594\"\n",
      "}\n"
     ]
    }
   ],
   "source": [
    "#·use the current project name\n",
    "env_data = get_environment(project_name=\"test22\")\n",
    "print(f\"Environment data:\\n{json.dumps(env_data, indent=2)}\")"
   ]
  },
  {
   "cell_type": "markdown",
   "metadata": {},
   "source": [
    "Setup some constants:"
   ]
  },
  {
   "cell_type": "code",
   "execution_count": 30,
   "metadata": {},
   "outputs": [
    {
     "name": "stdout",
     "output_type": "stream",
     "text": [
      "us-east-1\n",
      "arn:aws:iam::949335012047:role/service-role/sm-mlops-env-EnvironmentIAM-SageMakerExecutionRole-184Y5HERXPK2Q\n",
      "sm-mlops-dev-us-east-1-data\n"
     ]
    }
   ],
   "source": [
    "sagemaker_session = get_session(env_data[\"DataBucketName\"])\n",
    "\n",
    "region = boto3.Session().region_name\n",
    "role = env_data[\"ExecutionRole\"]\n",
    "data_bucket = sagemaker_session.default_bucket()\n",
    "model_bucket = env_data[\"ModelBucketName\"]\n",
    "\n",
    "print(f\"Region: {region}\")\n",
    "print(f\"Pipeline execution role: {role}\")\n",
    "print(f\"Pipeline data bucket: {data_bucket}\")\n",
    "\n",
    "# Change these to reflect your project/business name or if you want to separate ModelPackageGroup/Pipeline from the rest of your team\n",
    "model_package_group_name = f\"AbaloneModelPackageGroup-Example\"\n",
    "pipeline_name = f\"AbalonePipeline-Example\""
   ]
  },
  {
   "cell_type": "markdown",
   "metadata": {},
   "source": [
    "### Get the pipeline instance\n",
    "\n",
    "Here we get the pipeline instance from your pipeline module (`pipelines/abalone/pipeline.py`) so that we can work with it."
   ]
  },
  {
   "cell_type": "code",
   "execution_count": 32,
   "metadata": {},
   "outputs": [
    {
     "name": "stdout",
     "output_type": "stream",
     "text": [
      "{'UserId': 'AROA52CGGWLHXAEJ73C27:SageMaker', 'Account': '949335012047', 'Arn': 'arn:aws:sts::949335012047:assumed-role/sm-mlops-env-EnvironmentIAM-SageMakerExecutionRole-184Y5HERXPK2Q/SageMaker', 'ResponseMetadata': {'RequestId': '1fa5d12b-ed0b-4f71-82d9-844b73c22669', 'HTTPStatusCode': 200, 'HTTPHeaders': {'x-amzn-requestid': '1fa5d12b-ed0b-4f71-82d9-844b73c22669', 'content-type': 'text/xml', 'content-length': '489', 'date': 'Wed, 21 Apr 2021 14:06:59 GMT'}, 'RetryAttempts': 0}}\n",
      "Creating the pipeline 'AbalonePipeline-Example': us-east-1/arn:aws:iam::949335012047:role/service-role/sm-mlops-env-EnvironmentIAM-SageMakerExecutionRole-184Y5HERXPK2Q/sm-mlops-dev-us-east-1-data/sm-mlops-dev-us-east-1-models/AbaloneModelPackageGroup-Example\n",
      "##### Creating sagemaker session, bucket: sm-mlops-dev-us-east-1-data\n",
      "#### Sagemaker session created: <sagemaker.session.Session object at 0x7fa0f1c0b110>\n",
      "#### Setting up the pipeline parameters\n",
      "#### Setting up the parameter: ProcessingInstanceCount\n",
      "#### Setting up the parameter: ProcessingInstanceType\n",
      "#### Setting up the parameter: TrainingInstanceType\n",
      "#### Setting up the parameter: ModelApprovalStatus\n",
      "#### Setting up the parameter: InputDataUrl\n",
      "#### Default bucket:sm-mlops-dev-us-east-1-data\n",
      "#### Done setting up the pipeline parameters\n",
      "####·Creating SKLearnProcessor\n",
      "####·Creating ProcessingStep\n",
      "#### Sagemaker session default bucket: sm-mlops-dev-us-east-1-data\n",
      "####·Retrieve estimator URI\n",
      "####·Creating XGBoost estimator\n",
      "####·Creating training step\n",
      "####·Creating ScriptProcessor\n",
      "####·Creating Evaluation step\n",
      "####·Creating Pipeline\n"
     ]
    }
   ],
   "source": [
    "from pipelines.abalone.pipeline import get_pipeline\n",
    "\n",
    "\n",
    "pipeline = get_pipeline(\n",
    "    region=region,\n",
    "    role=role,\n",
    "    data_bucket=data_bucket,\n",
    "    model_bucket=model_bucket,\n",
    "    model_package_group_name=model_package_group_name,\n",
    "    pipeline_name=pipeline_name,\n",
    ")"
   ]
  },
  {
   "cell_type": "markdown",
   "metadata": {},
   "source": [
    "### Submit the pipeline to SageMaker and start execution\n",
    "\n",
    "Let's submit our pipeline definition to the workflow service. The role passed in will be used by the workflow service to create all the jobs defined in the steps."
   ]
  },
  {
   "cell_type": "code",
   "execution_count": 34,
   "metadata": {},
   "outputs": [
    {
     "name": "stdout",
     "output_type": "stream",
     "text": [
      "Use this role to run the pipeline: arn:aws:iam::949335012047:role/service-role/sm-mlops-env-EnvironmentIAM-SageMakerExecutionRole-184Y5HERXPK2Q\n"
     ]
    },
    {
     "name": "stderr",
     "output_type": "stream",
     "text": [
      "No finished training job found associated with this estimator. Please make sure this estimator is only used for building workflow config\n"
     ]
    },
    {
     "data": {
      "text/plain": [
       "{'PipelineArn': 'arn:aws:sagemaker:us-east-1:949335012047:pipeline/abalonepipeline-example',\n",
       " 'ResponseMetadata': {'RequestId': '1b4ba18e-0576-4916-a15e-0b93ff1cb151',\n",
       "  'HTTPStatusCode': 200,\n",
       "  'HTTPHeaders': {'x-amzn-requestid': '1b4ba18e-0576-4916-a15e-0b93ff1cb151',\n",
       "   'content-type': 'application/x-amz-json-1.1',\n",
       "   'content-length': '91',\n",
       "   'date': 'Wed, 21 Apr 2021 14:08:30 GMT'},\n",
       "  'RetryAttempts': 0}}"
      ]
     },
     "execution_count": 34,
     "metadata": {},
     "output_type": "execute_result"
    }
   ],
   "source": [
    "print(f\"Use this role to run the pipeline: {role}\")\n",
    "pipeline.upsert(role_arn=role)"
   ]
  },
  {
   "cell_type": "markdown",
   "metadata": {},
   "source": [
    "We'll start the pipeline, accepting all the default parameters.\n",
    "\n",
    "Values can also be passed into these pipeline parameters on starting of the pipeline, and will be covered later. "
   ]
  },
  {
   "cell_type": "code",
   "execution_count": 35,
   "metadata": {},
   "outputs": [],
   "source": [
    "execution = pipeline.start()"
   ]
  },
  {
   "cell_type": "markdown",
   "metadata": {},
   "source": [
    "### Pipeline Operations: examining and waiting for pipeline execution\n",
    "\n",
    "Now we describe execution instance and list the steps in the execution to find out more about the execution."
   ]
  },
  {
   "cell_type": "code",
   "execution_count": 36,
   "metadata": {},
   "outputs": [
    {
     "data": {
      "text/plain": [
       "{'PipelineArn': 'arn:aws:sagemaker:us-east-1:949335012047:pipeline/abalonepipeline-example',\n",
       " 'PipelineExecutionArn': 'arn:aws:sagemaker:us-east-1:949335012047:pipeline/abalonepipeline-example/execution/zrnq43zw69ib',\n",
       " 'PipelineExecutionDisplayName': 'execution-1619014205863',\n",
       " 'PipelineExecutionStatus': 'Executing',\n",
       " 'CreationTime': datetime.datetime(2021, 4, 21, 14, 10, 5, 776000, tzinfo=tzlocal()),\n",
       " 'LastModifiedTime': datetime.datetime(2021, 4, 21, 14, 10, 5, 776000, tzinfo=tzlocal()),\n",
       " 'CreatedBy': {'UserProfileArn': 'arn:aws:sagemaker:us-east-1:949335012047:user-profile/d-nuu0qocmyhd6/sm-mlops-dev-us-east-1-user-profile',\n",
       "  'UserProfileName': 'sm-mlops-dev-us-east-1-user-profile',\n",
       "  'DomainId': 'd-nuu0qocmyhd6'},\n",
       " 'LastModifiedBy': {'UserProfileArn': 'arn:aws:sagemaker:us-east-1:949335012047:user-profile/d-nuu0qocmyhd6/sm-mlops-dev-us-east-1-user-profile',\n",
       "  'UserProfileName': 'sm-mlops-dev-us-east-1-user-profile',\n",
       "  'DomainId': 'd-nuu0qocmyhd6'},\n",
       " 'ResponseMetadata': {'RequestId': 'f1e2e492-d98d-4117-a13c-693ba87090b1',\n",
       "  'HTTPStatusCode': 200,\n",
       "  'HTTPHeaders': {'x-amzn-requestid': 'f1e2e492-d98d-4117-a13c-693ba87090b1',\n",
       "   'content-type': 'application/x-amz-json-1.1',\n",
       "   'content-length': '825',\n",
       "   'date': 'Wed, 21 Apr 2021 14:10:08 GMT'},\n",
       "  'RetryAttempts': 0}}"
      ]
     },
     "execution_count": 36,
     "metadata": {},
     "output_type": "execute_result"
    }
   ],
   "source": [
    "execution.describe()"
   ]
  },
  {
   "cell_type": "markdown",
   "metadata": {},
   "source": [
    "We can wait for the execution by invoking `wait()` on the execution:"
   ]
  },
  {
   "cell_type": "code",
   "execution_count": null,
   "metadata": {},
   "outputs": [],
   "source": [
    "execution.wait()"
   ]
  },
  {
   "cell_type": "markdown",
   "metadata": {},
   "source": [
    "We can list the execution steps to check out the status and artifacts:"
   ]
  },
  {
   "cell_type": "code",
   "execution_count": null,
   "metadata": {},
   "outputs": [],
   "source": [
    "execution.list_steps()"
   ]
  },
  {
   "cell_type": "markdown",
   "metadata": {},
   "source": [
    "### Parametrized Executions\n",
    "\n",
    "We can run additional executions of the pipeline specifying different pipeline parameters. The parameters argument is a dictionary whose names are the parameter names, and whose values are the primitive values to use as overrides of the defaults.\n",
    "\n",
    "Of particular note, based on the performance of the model, we may want to kick off another pipeline execution, but this time on a compute-optimized instance type and set the model approval status automatically be \"Approved\". This means that the model package version generated by the `RegisterModel` step will automatically be ready for deployment through CI/CD pipelines, such as with SageMaker Projects."
   ]
  },
  {
   "cell_type": "code",
   "execution_count": null,
   "metadata": {},
   "outputs": [],
   "source": [
    "execution = pipeline.start(\n",
    "    parameters=dict(\n",
    "        ProcessingInstanceType=\"ml.c5.xlarge\",\n",
    "        ModelApprovalStatus=\"Approved\",\n",
    "    )\n",
    ")"
   ]
  },
  {
   "cell_type": "code",
   "execution_count": null,
   "metadata": {},
   "outputs": [],
   "source": [
    "execution.wait()"
   ]
  },
  {
   "cell_type": "code",
   "execution_count": null,
   "metadata": {},
   "outputs": [],
   "source": [
    "execution.list_steps()"
   ]
  }
 ],
 "metadata": {
  "instance_type": "ml.t3.medium",
  "kernelspec": {
   "display_name": "Python 3 (Data Science)",
   "language": "python",
   "name": "python3__SAGEMAKER_INTERNAL__arn:aws:sagemaker:us-east-1:081325390199:image/datascience-1.0"
  },
  "language_info": {
   "codemirror_mode": {
    "name": "ipython",
    "version": 3
   },
   "file_extension": ".py",
   "mimetype": "text/x-python",
   "name": "python",
   "nbconvert_exporter": "python",
   "pygments_lexer": "ipython3",
   "version": "3.7.10"
  }
 },
 "nbformat": 4,
 "nbformat_minor": 4
}

